{
 "cells": [
  {
   "cell_type": "markdown",
   "id": "adca3370-18fb-41c2-8097-b662b14a6456",
   "metadata": {},
   "source": [
    "# Papéis"
   ]
  },
  {
   "cell_type": "markdown",
   "id": "4da69cca-6053-4f0c-a351-34c5642d578c",
   "metadata": {},
   "source": [
    "## O que você saberá se você ler todo este capítulo?\n",
    "1. "
   ]
  },
  {
   "cell_type": "markdown",
   "id": "abfa1f2b-54b1-42d9-93b3-c168d922be3f",
   "metadata": {},
   "source": [
    "Backend\n",
    "Frontend\n",
    "Full Stack\n",
    "Software Engineer\n",
    "QA\n",
    "DevOps\n",
    "MLOps\n",
    "UX\n",
    "Arquiteto\n",
    "Agile/Projetos"
   ]
  },
  {
   "cell_type": "markdown",
   "id": "2f4c2682",
   "metadata": {},
   "source": [
    "<figure>\n",
    "    <img alt=\"Torre de Babel\" src=\"https://upload.wikimedia.org/wikipedia/commons/thumb/f/fc/Pieter_Bruegel_the_Elder_-_The_Tower_of_Babel_%28Vienna%29_-_Google_Art_Project_-_edited.jpg/1024px-Pieter_Bruegel_the_Elder_-_The_Tower_of_Babel_%28Vienna%29_-_Google_Art_Project_-_edited.jpg\" style=\"max-width:400px; display: block; margin: auto;\">\n",
    "    <figcaption style=\"text-align:center;\">Torre de Babel, de Pieter Bruegel, o Velho (~1525-1569). <a href=\"https://en.wikipedia.org/wiki/File:Pieter_Bruegel_the_Elder_-_The_Tower_of_Babel_(Vienna)_-_Google_Art_Project_-_edited.jpg\">Fonte.</a></figcaption>\n",
    "</figure>"
   ]
  },
  {
   "cell_type": "markdown",
   "id": "c3e22cee-9d41-4f7c-b97e-461c17166772",
   "metadata": {},
   "source": [
    "## Referências bibliográficas\n",
    "\n",
    "- https://roadmap.sh"
   ]
  }
 ],
 "metadata": {
  "kernelspec": {
   "display_name": "Python 3 (ipykernel)",
   "language": "python",
   "name": "python3"
  },
  "language_info": {
   "codemirror_mode": {
    "name": "ipython",
    "version": 3
   },
   "file_extension": ".py",
   "mimetype": "text/x-python",
   "name": "python",
   "nbconvert_exporter": "python",
   "pygments_lexer": "ipython3",
   "version": "3.9.12"
  }
 },
 "nbformat": 4,
 "nbformat_minor": 5
}
