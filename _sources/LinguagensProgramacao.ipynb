{
 "cells": [
  {
   "cell_type": "markdown",
   "id": "adca3370-18fb-41c2-8097-b662b14a6456",
   "metadata": {},
   "source": [
    "# Linguagens de Programação, ou a Escola de Idiomas do Pessoal de TI"
   ]
  },
  {
   "cell_type": "markdown",
   "id": "4da69cca-6053-4f0c-a351-34c5642d578c",
   "metadata": {},
   "source": [
    "## O que você saberá se você ler todo este capítulo?\n",
    "1. Vai entender o motivo de existem tantas linguagens de programação por aí.\n",
    "2. Vai entender quais linguagens são mais usadas e o porquê.\n",
    "3. Você também vai saber quais linguagens *realmente* são de programação (e quais não são)."
   ]
  },
  {
   "cell_type": "markdown",
   "id": "cffbf798",
   "metadata": {},
   "source": [
    "## torre_de_babel.doc\n",
    "Eu sei que você é um(a) profissional de alta categoria, e que você realmente possui um nível de performance e conhecimento invejáveis. É uma pessoa comprometida e que executa o seu trabalho com maestria. Contudo, isso não significa necessariamente que você seja uma pessoa poliglota. Pode ser que você consiga *se virar* ao precisar ler alguma coisa em inglês ou, quem sabe, é fluente em inglês, espanhol e mais um ou dois idiomas.\n",
    "\n",
    "Independente do seu nível de conhecimento em idiomas, uma coisa é certa: você sabe que diferentes lugares falam línguas diferentes por razões diferentes. Hoje em dia, a língua franca para o mundo dos negócios é o inglês. Algum tempo atrás, era o francês, ou o latim. Existem áreas em que não saber o alemão ou o italiano é um pecado, praticamente. Como você deve imaginar, saber falar só o finlandês em uma empresa que requerem o inglês não serve de muita coisa. Por outro lado, para quem sabe o alemão, aprender inglês é um processo relativamente mais simples. Afinal de contas, ambos os idiomas são parecidos.\n",
    "\n",
    "Isto é: não preciso discorrer muito para que você saiba que existem idiomas que são próximos uns dos outros (como português e espanhol, ou holandês e alemão), e outros que são bem distantes entre si (como o inglês e o japonês). Também você sabe que existem idiomas que são falados por mais gente, e outros que são falados por menos pessoas. Existem também idiomas que são falados por menos países (como o coreano), e idiomas que são falados por dezenas de países (como o espanhol). Existem também dialetos e sotaques.\n",
    "\n",
    "Agora, por que estou falando tudo isso? Para que você entenda que em TI não é diferente: a única coisa que muda é a de que, em vez de falarmos sobre linguagens de humanos, as mesmas regras se aplicam para linguagens de programação."
   ]
  },
  {
   "cell_type": "markdown",
   "id": "2f4c2682",
   "metadata": {},
   "source": [
    "<figure>\n",
    "    <img alt=\"Torre de Babel\" src=\"https://upload.wikimedia.org/wikipedia/commons/thumb/f/fc/Pieter_Bruegel_the_Elder_-_The_Tower_of_Babel_%28Vienna%29_-_Google_Art_Project_-_edited.jpg/1024px-Pieter_Bruegel_the_Elder_-_The_Tower_of_Babel_%28Vienna%29_-_Google_Art_Project_-_edited.jpg\" style=\"max-width:400px; display: block; margin: auto;\">\n",
    "    <figcaption style=\"text-align:center;\">Torre de Babel, de Pieter Bruegel, o Velho (~1525-1569). <a href=\"https://en.wikipedia.org/wiki/File:Pieter_Bruegel_the_Elder_-_The_Tower_of_Babel_(Vienna)_-_Google_Art_Project_-_edited.jpg\">Fonte.</a></figcaption>\n",
    "</figure>"
   ]
  },
  {
   "cell_type": "markdown",
   "id": "52dab0e4-c452-493e-bda6-ff2a0c0f75aa",
   "metadata": {},
   "source": [
    "## Falando com computadores\n",
    "\n",
    "Você já se perguntou como os programadores transformam ideias complexas em softwares e aplicativos funcionais que usamos todos os dias? Pode parecer magia, mas é uma combinação de lógica, criatividade e, claro, **algoritmos**!\n",
    "\n",
    "> **Dica:** é comum vermos notícias chamando Inteligência Artificial (IA) de algoritmos, mas nem todo algoritmo é de IA. Como uma analogia, algoritmos são como veículos. Nem todo veículo é um carro elétrico, mas o carro elétrico (que, neste caso, seria uma IA) certamente é um tipo de veículo.\n",
    "\n",
    "Para começar, programadores não se comunicam com computadores da mesma forma que conversamos com amigos. Seria muito legal se pudéssemos simplesmente dizer: \"*Ei, computador, crie um aplicativo para mim sem erro nenhum, super seguro e que seja muito rápido!*\" No entanto, a realidade é um pouco mais complexa. Computadores trabalham em termos de 0s e 1s: uma linguagem binária. É aqui que os algoritmos entram em cena. Um algoritmo é como se fosse uma receita detalhada que o programador escreve para guiar o computador passo a passo na realização de uma tarefa. Ele descreve cada etapa do processo, garantindo que o computador saiba exatamente o que fazer e como fazer.\n",
    "\n",
    "Agora, imagine tentar explicar a alguém como fazer um café perfeito sem omitir nenhum detalhe: quantidade de água, temperatura, tipo de grão, tempo de preparo, entre outros. Cada pequena especificação importa, e cada desvio ou erro também importa. No mundo da programação, isso é semelhante a criar um algoritmo. Se qualquer etapa for mal explicada ou omitida, o computador pode não fazer o que é esperado ou, pior, pode fazer algo totalmente inesperado!\n",
    "\n",
    "Já pensou o trabalhão que seria ter que explicar a alguém o que esta pessoa deve fazer para chegar ao café perfeito se acabasse a água, ou se não tivesse filtro de café, ou se a pessoa não tivesse um relógio para determinar o tempo de preparo, ou se no lugar de café ela tivesse leite? Pois é: é exatamente este tipo de coisa que o programador precisa pensar.\n",
    "\n",
    "Uma vez que o algoritmo está bem definido, o programador utiliza linguagens de programação (como Python, Java ou JavaScript) para traduzir esse algoritmo em código. Esse código é o que o computador realmente \"entende\" e executa. Então, em vez de conversar com o computador como faríamos com um colega, os programadores usam códigos para instruir o computador com precisão, eliminando ambiguidades.\n",
    "\n",
    "É por este motivo que eu diria que o processo de desenvolvimento de software é, às vezes, um trabalho de arte e de criação e, em outras vezes, um trabalho de técnica e de precisão. É um equilíbrio entre mente humana e máquina. Enquanto seria conveniente se pudéssemos simplesmente pedir aos computadores para fazerem coisas por nós, a beleza da programação está na construção meticulosa de algoritmos e na tradução desses algoritmos em um código que a máquina possa interpretar."
   ]
  },
  {
   "cell_type": "markdown",
   "id": "34285919-54f9-434c-9ab5-56260cc98af5",
   "metadata": {},
   "source": [
    "## Linguagens de programação\n",
    "Agora, você já se perguntou por que existem tantas linguagens de programação por aí? Afinal, **por que os desenvolvedores não usam simplesmente uma única linguagem universal para tudo**?\n",
    "\n",
    "Como de costume, pensemos em analogias. Vamos supor que você trabalhe em uma empresa a qual te paga para viajar pelo mundo e implementar projetos de TI em diferentes escritórios e em diferentes países. Em cada país, as pessoas falam diferentes línguas. Em um lugar, o inglês pode ser mais útil; em outro, o mandarim ou o espanhol. Cada língua evoluiu de acordo com a cultura, história e necessidades específicas daquela região.\n",
    "\n",
    "Bom, de modo similar, no mundo da tecnologia as diferentes linguagens de programação surgiram para atender a necessidades específicas. Algumas são ótimas para desenvolver aplicações web rápidas, enquanto outras são ideais para tarefas complexas, como análise de dados ou desenvolvimento de jogos.\n",
    "\n",
    "Pensemos agora em outro exemplo: um chef preparando uma refeição gourmet. Ele escolhe cuidadosamente cada utensílio de cozinha para uma tarefa específica. Não usaria uma faca de pão para descascar batatas, certo? Da mesma forma, os desenvolvedores escolhem linguagens de programação que são mais adaptadas ao problema que estão tentando resolver. **Python**, por exemplo, é conhecido por sua simplicidade e é amplamente utilizado pelo pessoal que trabalha com Ciência de Dados. Já o **JavaScript** é a estrela do desenvolvimento web. O **ABAP** é usado por pessoas que trabalham com SAP, um sistema empresarial. Cada linguagem tem as suas próprias ferramentas e bibliotecas, o que ajuda na escolha para desenvoler certos projetos de TI.\n",
    "\n",
    "E aqui está outra coisa: a evolução. Assim como o mundo dos negócios evolui constantemente, o mesmo acontece com a tecnologia. Novas linguagens são criadas para lidar com novos desafios ou para melhorar as limitações das linguagens mais antigas. É uma adaptação constante às crescentes demandas do mundo digital.\n",
    "\n",
    "Por isso, cada linguagem de programação possui o seu lugar, a sua história e sua razão de ser. Você que é um analista de negócio pode tirar vantagem dessas informações também. Ao entender essa diversidade, você pode colaborar melhor com as equipes de TI e entender as decisões técnicas por trás dos produtos e soluções que a empresa desenvolve e entrega.\n",
    "\n",
    "### Escolhendo uma linguagem de programação\n",
    "Agora, como uma linguagem de programação é escolhida para ser usada em uma empresa? Afinal, esta é uma decisão importante: projetos de TI podem levar meses ou anos a serem desenvolvidos, e um tempo maior ainda para serem mantidos. Muitas vezes, essa decisão é baseada em critérios técnicos bem embasados. Por exemplo, se uma empresa deseja desenvolver um aplicativo de celular, ela pode optar pelo **Swift** para iOS ou **Kotlin** para Android, considerando os benefícios técnicos que cada linguagem oferece para cada uma dessas plataformas. Outras considerações técnicas incluem a velocidade de execução do código, a maturidade das bibliotecas disponíveis e a adaptabilidade da linguagem às necessidades do projeto.\n",
    "\n",
    "No entanto, nem sempre as decisões são puramente técnicas. O mercado de trabalho também influencia. Se uma região tem uma abundante oferta de desenvolvedores especializados em Java, por exemplo, pode ser mais econômico e prático para uma empresa adotar **Java** para seus projetos. Afinal, contratar e treinar talentos é um investimento significativo.\n",
    "\n",
    "Só que nem sempre a vida é um mar de rosas, né? Às vezes, a escolha da linguagem pode ser influenciada pelas preferências pessoais de um gerente ou líder técnico. Talvez esta pessoa tenha uma \"linguagem de estimação\" com a qual esteja mais familiarizada ou pela qual tenha uma afinidade particular. Essa abordagem pode ser arriscada. Adotar uma linguagem baseada apenas nas preferências individuais pode levar a escolhas que não são ideais para as necessidades reais do projeto ou da equipe, e é um risco real em empresas que não são inerentemente de Tecnologia.\n",
    "\n",
    "Portanto, observe aqui que a escolha de uma linguagem de programação é uma combinação de fatores técnicos, práticos e, às vezes, pessoais. Para que as empresas prosperem, é fundamental que essa decisão seja bem ponderada, considerando tanto as necessidades atuais quanto as futuras do projeto, bem como o impacto dessa escolha no longo prazo (no caso, de alguns anos a até décadas)."
   ]
  },
  {
   "cell_type": "markdown",
   "id": "eb92b0ec-a92c-4c91-bc69-8b081276c2ed",
   "metadata": {},
   "source": [
    "<figure>\n",
    "    <img alt=\"TIOBE Index\" src=\"https://upload.wikimedia.org/wikipedia/commons/f/f8/Tiobeindex.png\" style=\"max-width:600px; display: block; margin: auto;\">\n",
    "    <figcaption style=\"text-align:center;\">TIOBE Index, um dos índices de popularidade de linguagens de programação. Créditos: <a href=\"https://commons.wikimedia.org/wiki/File:Tiobeindex.png\">TIOBE.</a></figcaption>\n",
    "</figure>"
   ]
  },
  {
   "cell_type": "markdown",
   "id": "ca942cd5-1732-442b-ae52-05879c9731ce",
   "metadata": {},
   "source": [
    "### Linguagens mais comuns\n",
    "Agora, quais são as linguagens de programação mais comuns? Existem vários rankings de uso de linguagens como, por exemplo, o [TIOBE Index](https://tiobe.com/tiobe-index/). Aqui, listei algumas das mais populares em ordem alfabética. Vejamos:\n",
    "\n",
    "- **ABAP**: é usado frequentemente para desenvolver novas funcionalidades no SAP, um dos maiores sistemas empresariais do mundo. Se você já passou por alguma multinacional é extremamente provável que tenha pelo menos ouvido falar sobre o SAP.\n",
    "- **C**: é usado para o desenvolvimento de sistemas, aplicações embutidas, sistemas operacionais e software de baixo nível (já explico mais sobre isso).\n",
    "- **C++**: esta linguagem é usada para o desenvolvimento de sistemas, aplicações de alto desempenho, jogos e software em tempo real.\n",
    "- **C#**: ela é usada para aplicações empresariais e para o desenvolvimento de jogos.\n",
    "- **Clojure**: é usada em empresas que usam uma abordagem mais funcional (já falarei mais sobre isso) para o processamento de dados e desenvolvimento web.\n",
    "- **Go**: ela foi criada pela Google, e é usada em aplicações back-end (lógica de soluções como sites, aplicativos e outros serviços de empresas de tecnologia), e em  ferramentas de infraestrutura.\n",
    "- **Java**: ela é muito usada em aplicações empresariais, sistemas Android, sistemas de grande escala e aplicações web. É bem comum os estudantes de cursos de Graduação de TI aprenderem Java nas universidades.\n",
    "- **JavaScript**: é usado para o desenvolvimento web (interfaces de sites). Ela também é usada por frameworks como React e Angular, e aplicações server-side com Node.js. Ah, sei que é confuso, mas Java não tem nada a ver com JavaScript, beleza?\n",
    "- **Kotlin**: é usado para desenvolver aplicativos para Android e, cada vez mais, desenvolvimento web e backend.\n",
    "- **PHP**: boa parte dos sites usam PHP. Ele também é usado para sistemas de gerenciamento de conteúdo como WordPress e aplicações empresariais. Sempre se fala que o PHP está decaindo e que morrerá em breve, mas continua forte apesar disso.\n",
    "- **Python**: ele é usado para o desenvolvimento web (com soluções como o Django, Flask), ciência de dados, inteligência artificial e automação, por exemplo. É uma linguagem mais simples de se entender e, por isso, é frequentemente usada nas disciplinas de introdução à programação para estudantes de cursos de Graduação de TI nas universidades.\n",
    "- **R**: é usado para a análise estatística, ciência de dados e visualização. Muitos cientistas de dados que não vieram de TI começaram nesta linguagem e depois foram para o Python (ou continuam no R).\n",
    "- **Ruby**: é usado para o desenvolvimento web (com Ruby on Rails), scripting e automação.\n",
    "- **Rust**: é usado no desenvolvimento de sistemas, aplicações de alto desempenho e software seguro.\n",
    "- **Scala**: é usado para o processamento de big data (grandes conjuntos de dados com muito volume e variabilidade), sistemas paralelos e por empresas em geral que lidam com muitos dados sendo processados ao mesmo tempo por vários computadores.\n",
    "- **Swift**: é usado para desenvolver aplicativos para iOS e macOS.\n",
    "\n",
    "### Nem tudo é linguagem de programação\n",
    "\n",
    "> \"*E o HTML? E o SQL?*\"\n",
    "\n",
    "Você sabia que existem várias linguagens ou tecnologias que, às vezes, são erroneamente classificadas como linguagens de programação mas que, na realidade, não o são? Podemos ter outras ferramentas vitais em muitos fluxos de trabalho de desenvolvimento de software, e, embora não sejam linguagens de programação no sentido tradicional, elas ainda exigem um nível de proficiência e compreensão para serem usadas de um jeito eficaz. Veja só:\n",
    "\n",
    "- **CSS (Cascading Style Sheets)**: ela é uma linguagem de estilo, e não de programação. Geralmente usamos o CSS para estilizar e definir a aparência de documentos HTML, como cores, tamanhos e fontes de texto.\n",
    "- **HTML (HyperText Markup Language)**: veja que no próprio nome diz que é uma linguagem de markup (marcação), e não de programação. É a linguagem que define a estrutura e apresentação do conteúdo de páginas web.\n",
    "- **SQL (Structured Query Language)**: é geralmente classificada como uma linguagem de consulta (query) de dados. Ainda que seja a base de muitos dos projetos de TI para que possamos consultar e processar bancos de dados, ela não é uma linguagem de programação em si.\n",
    "- **XML (eXtensible Markup Language)**: assim como o HTML, é também uma linguagem de marcação. Ele é usado para codificar documentos que sejam legíveis tanto para humanos quanto para máquinas. Se você entende uma planilha de Excel, não necessariamente um computador entenderá. O XML é um equilíbrio neste sentido.\n",
    "- **JSON (JavaScript Object Notation)**: ele é só uma forma de trocarmos dados entre sistemas. Embora seja derivado do JavaScript, por si só não é uma linguagem de programação.\n",
    "\n",
    "### Aqui é baixo nível (ou não)\n",
    "O conceito de \"nível\" em linguagens de programação se refere à proximidade da linguagem em relação à máquina (hardware) ou ao ser humano. Ou seja: indica quão abstrata ou concreta uma linguagem é em relação à operação direta do computador.\n",
    "\n",
    "Linguagens como Assembly são de **baixo nível**. Isto é, são mais próximas do hardware. Elas fornecem pouca ou nenhuma abstração das instruções do computador e, frequentemente, estão diretamente relacionadas com a arquitetura específica do sistema. Cada comando geralmente corresponde a uma instrução do processador, e pessoas que não entendam dessas linguagens dificilmente entenderão o que aquele código quer dizer.\n",
    "\n",
    "Por outro lado, temos também linguagens como Python, Java, C#, JavaScript, Scala e Ruby, que são linguagens de **alto nível**. Estão mais próximas dos humanos e mais distantes do hardware. Elas são projetadas para serem mais fáceis de serem lidas e escritas por humanos, oferecendo abstrações que escondem os detalhes complicados do funcionamento interno do computador.\n",
    "\n",
    "É claro que existe um equilíbrio entre esses níveis, também. Enquanto linguagens de baixo nível oferecem mais controle sobre o hardware e podem ser mais rápidas em certas operações, linguagens de alto nível oferecem uma curva de aprendizado mais suave e são geralmente mais produtivas para o desenvolvimento de aplicações comuns. Se você é um analista de negócio e está atuando perto de algum projeto de TI, então é provável que esteja atuando com uma linguagem de alto nível."
   ]
  },
  {
   "cell_type": "markdown",
   "id": "742bbbf1-c817-47e1-85b8-1f9c3ae08f98",
   "metadata": {},
   "source": [
    "## Formas diferentes de programação\n",
    "Dei algumas analogias de linguagens de programação com idiomas, como o inglês, espanhol, alemão, coreano, entre outros. Em nenhum momento eu falei sobre a *escrita*. Isto é: inglês, português, espanhol e demais idiomas compartilham de um alfabeto parecido. Já o grego possui um outro tipo de alfabeto. O russo possui um outro alfabeto. O japonês também.\n",
    "\n",
    "Em programação, estas formas de escrita se comparam aos **paradigmas** de programação. A programação é uma disciplina vasta e diversificada, e diferentes paradigmas de programação surgiram ao longo dos anos para abordar distintas maneiras de pensar sobre problemas e soluções. Estes paradigmas moldam a maneira como o código é estruturado e como os problemas são decompostos e resolvidos.\n",
    "\n",
    "O primeiro tipo de paradigma que é frequentemente ensinado nas universidades é a **programação procedural**, ou estruturada. Se tivesse uma analogia para ela, seria a de uma receita de bolo. Ela foca na execução de sequências de comandos ou procedimentos. Neste paradigma, as operações são geralmente executadas em uma sequência linear, passo-a-passo (como a receita de bolo que acabei de comentar). O estado do programa é mantido através de variáveis, e os procedimentos ou funções são usados para modularizar o código e realizar tarefas específicas. Linguagens de programação que usam este tipo de paradigma são C, Python e R.\n",
    "\n",
    "Agora, outro tipo mais complexo e que é muuuuuuito usado nas empresas é a **programação orientada a objetos**. Aqui, tentamos simular o mundo como ele é, com diferentes coisas (ou objetos), e cada coisa com as suas características. Ou seja: ela é baseada no conceito de \"objetos\", que são instâncias de \"classes\". As classes definem atributos (campos) e comportamentos (métodos) que os seus objetos terão. Linguagens como ABAP, Java, C++ e C# usam este paradigma. Também é possível termos projetos em Python usando isso, mas é um pouco menos comum.\n",
    "\n",
    "Por último, temos a **programação funcional**. Ela tem como foco principal as funções, e é mais difícil de se ver nas empresas. Em vez de dizer ao computador passo-a-passo o que fazer (como fazer um bolo seguindo uma receita), aqui definimos várias funções e descreve como elas se relacionam e trabalham juntas. Uma característica marcante é que, na programação funcional, os dados são tratados como imutáveis. Ou seja, uma vez que um valor é definido, ele não pode ser alterado. Para ficar mais claro, imagine uma linha de produção de uma fábrica. Em vez de termos uma máquina gigante em que entra a matéria-prima e sai o produto pronto e embalado, temos várias pequenas máquinas especializadas. Uma funciona como uma balança. Outra, como empacotadora. Outra, como uma máquina de corte, e assim por diante. O legal disso é que essas máquinas podem ser usadas em diferentes combinações para produzir diferentes tipos de produtos. A programação funcional é semelhante: criamos várias funções pequenas e especializadas (que seriam as máquinas da fábrica) e, em seguida, combina-as de diferentes maneiras para obter o resultado desejado. E assim como cada máquina não altera a matéria-prima original, mas produz algo novo, as funções na programação funcional não alteram os dados originais, mas produzem novos dados a partir deles. Linguagens como Haskell, Lisp, Scala e Clojure são fortemente influenciadas por este paradigma."
   ]
  },
  {
   "cell_type": "markdown",
   "id": "c3e22cee-9d41-4f7c-b97e-461c17166772",
   "metadata": {},
   "source": [
    "## Referências bibliográficas\n",
    "\n"
   ]
  },
  {
   "cell_type": "markdown",
   "id": "d4224c50-a5f5-4c42-9234-fb562111e260",
   "metadata": {},
   "source": [
    "- ABELSON, Harold; SUSSMAN, Gerald Jay; SUSSMAN, Julie. **Structure and Interpretation of Computer Programs: JavaScript Edition**. Estados Unidos: MIT Press, 2022.\n",
    "- CRAIG, Iain. **The Interpretation of Object-Oriented Programming Languages**. United Kingdom: Springer London, 2012.\n",
    "- JONES, Cliff B. **Understanding Programming Languages**. Germany: Springer International Publishing, 2020.\n",
    "- MITCHELL, John C. **Concepts in Programming Languages**. United States: Cambridge University Press, 2002.\n",
    "- TEUFEL, Bernd. **Organization of Programming Languages**. Austria: Springer Vienna, 2012.\n",
    "- WIDMAN, Jack. **Learning Functional Programming**. N.p.: O'Reilly Media, 2022."
   ]
  }
 ],
 "metadata": {
  "kernelspec": {
   "display_name": "Python 3 (ipykernel)",
   "language": "python",
   "name": "python3"
  },
  "language_info": {
   "codemirror_mode": {
    "name": "ipython",
    "version": 3
   },
   "file_extension": ".py",
   "mimetype": "text/x-python",
   "name": "python",
   "nbconvert_exporter": "python",
   "pygments_lexer": "ipython3",
   "version": "3.9.12"
  }
 },
 "nbformat": 4,
 "nbformat_minor": 5
}
